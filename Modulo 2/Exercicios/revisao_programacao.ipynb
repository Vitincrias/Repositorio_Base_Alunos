{
 "cells": [
  {
   "cell_type": "markdown",
   "metadata": {},
   "source": [
    "# Revisão de Programação em Python\n",
    "## Alunos da Rede Pública Municipal de Santana de Parnaíba inscritos na Fábrica de Programadores!\n",
    "\n",
    "Neste notebook, vamos revisar os conceitos aprendidos:\n",
    "- Variáveis e tipos básicos 😁\n",
    "- Listas 📋\n",
    "- Estruturas condicionais (if, elif, else) ⬅️➡️\n",
    "- Casting 🫠\n",
    "- Funções 📐\n",
    "- Escopo (global, local) 🌍🏠\n",
    "- Composição ➗\n",
    "- Loops (while, for) 🌀\n",
    "- Lógica básica de programação 🧠\n",
    "\n",
    "Responda todos os exercícios utilizando composição!"
   ]
  },
  {
   "cell_type": "markdown",
   "metadata": {},
   "source": [
    "## Exercício 1: Variáveis e Tipos Básicos"
   ]
  },
  {
   "cell_type": "code",
   "execution_count": 34,
   "metadata": {},
   "outputs": [
    {
     "name": "stdout",
     "output_type": "stream",
     "text": [
      "Vitor Santos Penaforte\n",
      "15\n",
      "1.6\n",
      "True\n"
     ]
    }
   ],
   "source": [
    "# 1. Declare variáveis para armazenar:\n",
    "#    - Seu nome (string)\n",
    "#    - Sua idade (int)\n",
    "#    - Sua altura em metros (float)\n",
    "#    - Se você gosta de programar (True, False)\n",
    "#    - Depois, imprima cada uma dessas variáveis\n",
    "\n",
    "print(\"Vitor Santos Penaforte\")\n",
    "print(int(15)) \n",
    "print(float(1.60))\n",
    "print(\"True\")\n"
   ]
  },
  {
   "cell_type": "markdown",
   "metadata": {},
   "source": [
    "## Exercício 2: Operações com Listas"
   ]
  },
  {
   "cell_type": "code",
   "execution_count": 33,
   "metadata": {},
   "outputs": [
    {
     "name": "stdout",
     "output_type": "stream",
     "text": [
      "['Caju', 'Pera', 'Melancia', 'Maçã', 'Laranja', 'Pitaya']\n",
      "['Caju', 'Pera', 'Maçã', 'Laranja', 'Pitaya']\n",
      "Laranja\n"
     ]
    }
   ],
   "source": [
    "# 2. Declare uma lista chamada 'frutas' com 5 frutas diferentes\n",
    "#    - Adicione uma nova fruta no final da lista\n",
    "#    - Remova a segunda fruta da lista\n",
    "#    - Imprima a lista resultante\n",
    "#    - Imprima apenas a terceira fruta da lista\n",
    "\n",
    "# Seu código aqui\n",
    "\n",
    "Lista=[\"Caju\", \"Pera\", \"Melancia\", \"Maçã\", \"Laranja\"]\n",
    "Lista.insert(5, \"Pitaya\")\n",
    "print(Lista)\n",
    "Lista.pop(2)\n",
    "print(Lista)\n",
    "print(Lista[3])"
   ]
  },
  {
   "cell_type": "markdown",
   "metadata": {},
   "source": [
    "## Exercício 3: Funções, Escopo e Tipos de Dados"
   ]
  },
  {
   "cell_type": "code",
   "execution_count": 22,
   "metadata": {},
   "outputs": [
    {
     "name": "stdout",
     "output_type": "stream",
     "text": [
      "9 x 2 = 18\n"
     ]
    }
   ],
   "source": [
    "# 3. Defina uma função chamada calcular_dobro que recebe um número inteiro como parâmetro.\n",
    "#    - Dentro da função, calcule o dobro desse número e atribua o resultado a uma variável local chamada resultado_dobro.\n",
    "#    - A função deve retornar resultado_dobro.\n",
    "#    - Fora da função, invoque a função com o número 7 e atribua o valor retornado a uma variável global chamada meu_dobro.\n",
    "#    - Imprima o valor de meu_dobro.\n",
    "\n",
    "# Seu código aqui\n",
    "\n",
    "N = int(input(\"Dobro: \"))\n",
    "X = 2\n",
    "\n",
    "while X * N:         \n",
    "    print(N, \"x\", X,\"=\", N*X)\n",
    "    break\n"
   ]
  },
  {
   "cell_type": "markdown",
   "metadata": {},
   "source": [
    "## Exercício 4: Estruturas Condicionais (if, else)"
   ]
  },
  {
   "cell_type": "code",
   "execution_count": 60,
   "metadata": {},
   "outputs": [
    {
     "name": "stdout",
     "output_type": "stream",
     "text": [
      "positivo. \n",
      "10\n"
     ]
    }
   ],
   "source": [
    "# 4. Crie um programa que verifica se um número é positivo, negativo ou zero\n",
    "#    - Peça para o usuário digitar um número\n",
    "#    - Use if, elif e else para verificar o número\n",
    "#    - Imprima o resultado\n",
    "\n",
    "# Seu código aqui\n",
    "\n",
    "Valor=int(input(\"Digite valor: \"))\n",
    "\n",
    "if  Valor < 0:\n",
    "        print(\"Negativo. \")  \n",
    "        print(Valor)\n",
    "else:\n",
    "        print(\"positivo. \")\n",
    "        print(Valor)"
   ]
  },
  {
   "cell_type": "markdown",
   "metadata": {},
   "source": [
    "## Exercício 5: Loop While"
   ]
  },
  {
   "cell_type": "code",
   "execution_count": 85,
   "metadata": {},
   "outputs": [
    {
     "name": "stdout",
     "output_type": "stream",
     "text": [
      "5\n",
      "4\n",
      "3\n",
      "2\n",
      "1\n",
      "já, Fogo!\n"
     ]
    }
   ],
   "source": [
    "# 5. Crie um contador regressivo de 5 até 1 usando while\n",
    "#    - A cada iteração, imprima o número atual\n",
    "#    - Quando chegar a 1, imprima \"Fogo!\"\n",
    "\n",
    "# Seu código aqui\n",
    "\n",
    "Y = 5\n",
    "while Y >= 1:\n",
    "    print(Y)\n",
    "    Y = Y-1\n",
    "print (\"já, Fogo!\")\n"
   ]
  },
  {
   "cell_type": "markdown",
   "metadata": {},
   "source": [
    "## Exercício 6: Loop For"
   ]
  },
  {
   "cell_type": "code",
   "execution_count": 36,
   "metadata": {},
   "outputs": [
    {
     "name": "stdout",
     "output_type": "stream",
     "text": [
      "4.4\n"
     ]
    }
   ],
   "source": [
    "# 6. Crie um programa que calcula a média de 5 notas usando for\n",
    "#    - Peça para o usuário digitar 5 notas\n",
    "#    - Use um loop for para somar as notas\n",
    "#    - Calcule e imprima a média\n",
    "\n",
    "# Seu código aqui\n",
    "nota=0\n",
    "resultado=0\n",
    "x=0\n",
    "while True:\n",
    "    lazaro=int(input(\"Digite um número a somar ou 0 para sair: \"))\n",
    "    if lazaro==0:\n",
    "        break\n",
    "    nota = nota+lazaro\n",
    "            \n",
    "    x=x+1\n",
    "resultado = nota / x\n",
    "print(resultado)\n",
    "\n"
   ]
  },
  {
   "cell_type": "markdown",
   "metadata": {},
   "source": [
    "## Exercício 7: Escopo Global e Local"
   ]
  },
  {
   "cell_type": "code",
   "execution_count": 86,
   "metadata": {},
   "outputs": [
    {
     "name": "stdout",
     "output_type": "stream",
     "text": [
      "seu saldo é de:\n",
      "200.7\n"
     ]
    }
   ],
   "source": [
    "# 7. Defina uma variável global chamada saldo_inicial com o valor 1000.50 (tipo float).\n",
    "#    - Crie uma função chamada depositar que recebe um valor_deposito (float) como parâmetro.\n",
    "#    - Dentro da função depositar, adicione o valor_deposito ao saldo_inicial. Lembre-se de usar a palavra-chave global para modificar a variável global.\n",
    "#    - Fora da função, chame depositar com o valor 250.75.\n",
    "#    - Após a chamada da função, imprima o valor atualizado de saldo_inicial.\n",
    "\n",
    "# Seu código aqui\n",
    "\n",
    "saldo_inicial = 0\n",
    "pix=float(input(\"Digite o valor do depósito\"))\n",
    "\n",
    "pix = pix + saldo_inicial\n",
    "print (\"seu saldo é de:\")\n",
    "print (pix)\n",
    "\n"
   ]
  },
  {
   "cell_type": "markdown",
   "metadata": {},
   "source": [
    "## Exercício 8: Listas e Loops"
   ]
  },
  {
   "cell_type": "code",
   "execution_count": 178,
   "metadata": {},
   "outputs": [
    {
     "name": "stdout",
     "output_type": "stream",
     "text": [
      "Impares: \n",
      "1\n",
      "3\n",
      "5\n",
      "7\n",
      "9\n",
      "\n",
      "\n",
      "Pares: \n",
      "2\n",
      "4\n",
      "6\n",
      "8\n",
      "10\n"
     ]
    }
   ],
   "source": [
    "# 8. Crie uma lista de números de 1 a 10\n",
    "#    - Use um loop for para imprimir apenas os números pares\n",
    "#    - Depois, crie uma nova lista com os números ímpares\n",
    "#    - Imprima a lista de ímpares\n",
    "\n",
    "# Seu código aqui\n",
    "\n",
    "print(\"Impares: \")\n",
    "\n",
    "lazaro = [1, 2, 3, 4, 5, 6, 7, 8, 9, 10]\n",
    "for lazaro in range (1, 11):\n",
    "    if lazaro %2 != 0:\n",
    "        print(lazaro)\n",
    "\n",
    "print(\"\\n\")\n",
    "\n",
    "print(\"Pares: \")\n",
    "lazaro = [1, 2, 3, 4, 5, 6, 7, 8, 9, 10]\n",
    "for lazaro in range (2, 11, 2):\n",
    "    if lazaro %2 == 0:\n",
    "        print(lazaro)"
   ]
  },
  {
   "cell_type": "markdown",
   "metadata": {},
   "source": [
    "## Exercício 9: Jogo de Adivinhação"
   ]
  },
  {
   "cell_type": "code",
   "execution_count": 72,
   "metadata": {},
   "outputs": [
    {
     "name": "stdout",
     "output_type": "stream",
     "text": [
      "Muito alto\n",
      "Muito alto\n",
      "Muito alto\n"
     ]
    }
   ],
   "source": [
    "# 9. Crie um jogo de adivinhação onde:\n",
    "#    - O computador escolhe um número aleatório entre 1 e 10\n",
    "#    - O jogador tem 3 tentativas para adivinhar o número\n",
    "#    - A cada tentativa, diga se o palpite é maior ou menor que o número secreto\n",
    "#    - Se acertar, imprima \"Parabéns!\" e encerre o jogo\n",
    "#    - Se errar todas as tentativas, imprima o número correto\n",
    "\n",
    "# Seu código aqui\n",
    "import random\n",
    "numero_secreto = random.randint(1, 10)\n",
    "tentativas = 3\n",
    "acertou = False\n",
    "\n",
    "while tentativas > 0:\n",
    "    \n",
    "    resposta = int(input(\"Acerte o número: \"))\n",
    "        \n",
    "    if resposta < numero_secreto:\n",
    "        print (\"Muito baixo\")\n",
    "    elif resposta > numero_secreto:\n",
    "        print(\"Muito alto\")\n",
    "    else:\n",
    "        acertou = True\n",
    "        print(\"Parabéns você ganhou o jogo!\")\n",
    "        break\n",
    "    tentativas -= 1 \n",
    "     "
   ]
  },
  {
   "cell_type": "markdown",
   "metadata": {},
   "source": [
    "## Exercício 10: Desafio Final"
   ]
  },
  {
   "cell_type": "code",
   "execution_count": 111,
   "metadata": {},
   "outputs": [
    {
     "name": "stdout",
     "output_type": "stream",
     "text": [
      "78.12499999999999\n",
      "Magreza moderada (grau II)\n"
     ]
    }
   ],
   "source": [
    "# 10. Crie um programa que:\n",
    "#    - Pede para o usuário digitar o seu próprio peso em Kgs.\n",
    "#    - Depois, pede ao usuário que digite sua altura em metros.\n",
    "#    - Em terceiro, pede ao usuário que digite seu nome e idade.\n",
    "#    - Adiciona os dados digitados ao final de uma lista (utilizando a função .append()).\n",
    "#    - Calcule o índice de massa corpórea (IMC) do indivíduo de acordo com a fórmula do IMC pesquisada.    \n",
    "#    - Após calcular, registre: Classificação do IMC de acordo com a OMS:\n",
    "#    - < 16         Magreza grave (grau III)\n",
    "#    - 16 a 16,9    Magreza moderada (grau II)\n",
    "#    - 17 a 18,4    Magreza leve (grau I)\n",
    "#    - 18,5 a 24,9  Eutrofia (estado nutricional adequado)\n",
    "#    - 25 a 29,9    Pré-obesidade\n",
    "#    - 30 a 34,9    Obesidade moderada (grau I)\n",
    "#    - 35 a 39,9    Obesidade severa (grau II)\n",
    "#    - >= 40        Obesidade muito severa (grau III)\n",
    "#    - Finalmente, em ordem alfabética (utilizando a função .sort()), exiba todos os itens da lista ao lado de seus dados, seu IMC e sua respectiva classificação.\n",
    "\n",
    "# Seu código aqui\n",
    "\n",
    "peso = float(input(\"Digite o seu peso em Kgs: \"))\n",
    "altura = float (input(\"Digite sua altura: \"))\n",
    "Nome_e_idade = int(input(\"Idade: \")), (input(\"Nome: \"))\n",
    "conta = peso / (altura * altura)\n",
    "if conta <= 16:\n",
    "    print (conta)\n",
    "    print(\" Magreza grave (grau III)\")\n",
    "elif conta >= 16:\n",
    "    print (conta)\n",
    "    print (\"Magreza moderada (grau II)\")\n",
    "elif 17 <= conta >= 18.4:\n",
    "    print (conta)\n",
    "    print = \"Magreza leve (grau I)\"\n",
    "elif 18.5 <= conta >= 24.9:\n",
    "    print (conta)\n",
    "    print = \"Eutrofia (estado nutricional adequado)\"\n",
    "elif 25 <= conta >= 29.9:\n",
    "    print (conta)\n",
    "    print = \"Pré-obesidade\"\n",
    "elif 30 <= conta >= 34.9:\n",
    "    print (conta)\n",
    "    print = \"Obesidade moderada (grau I)\"\n",
    "elif 35 <= conta >= 39.9:\n",
    "    print (conta)\n",
    "    print = \"Obesidade severa (grau II)\"\n",
    "else:\n",
    "    print (conta)\n",
    "    print = \"Obesidade muito severa (grau III)\""
   ]
  },
  {
   "cell_type": "markdown",
   "metadata": {},
   "source": [
    "## Parabéns por completar os exercícios! 🥳\n",
    "### Continue praticando e explorando os conceitos de programação."
   ]
  }
 ],
 "metadata": {
  "kernelspec": {
   "display_name": "Python 3",
   "language": "python",
   "name": "python3"
  },
  "language_info": {
   "codemirror_mode": {
    "name": "ipython",
    "version": 3
   },
   "file_extension": ".py",
   "mimetype": "text/x-python",
   "name": "python",
   "nbconvert_exporter": "python",
   "pygments_lexer": "ipython3",
   "version": "3.13.2"
  }
 },
 "nbformat": 4,
 "nbformat_minor": 4
}
